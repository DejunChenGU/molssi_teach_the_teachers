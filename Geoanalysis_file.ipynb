{
 "cells": [
  {
   "cell_type": "code",
   "execution_count": 2,
   "metadata": {},
   "outputs": [
    {
     "name": "stdout",
     "output_type": "stream",
     "text": [
      "O to H1 : 0.969\n",
      "O to H2 : 0.969\n"
     ]
    }
   ],
   "source": [
    "\"\"\"\n",
    "Geometry Analysis for bond length\n",
    "\n",
    "\"\"\"\n",
    "import numpy\n",
    "import os\n",
    "import sys # function to convert code to execute on file name, return a list\n",
    "\n",
    "def open_xyz(filename):\n",
    "    \"\"\"\n",
    "    Write a function that read in and process an xyz file: open_xyz\n",
    "    Input: filename\n",
    "    Output: symbol and coordinate\n",
    "    \n",
    "    \"\"\"\n",
    "    xyzfile = numpy.genfromtxt(fname=filename, dtype='unicode', skip_header=2)\n",
    "    symbol = xyzfile[:, 0]\n",
    "    coordinate = xyzfile[:,1:]\n",
    "    coordinate = coordinate.astype(numpy.float)\n",
    "    #print(symbols)\n",
    "    #print(coordinates)\n",
    "    \n",
    "    return symbol, coordinate\n",
    "\n",
    "def bond_check(distance, minimum_length=0, maximum_length=1.5):\n",
    "    \"\"\"\n",
    "    check and see if the distance(input) is between minmum_length(input, default=0) and maximum_length(input, default=1.5) \n",
    "    in Anstroms. Return True or False\n",
    "    \n",
    "    \"\"\"\n",
    "    if distance <= 0:\n",
    "        raise ValueError('bond length of {distance} must not be 0 or negative value. Check your input.')\n",
    "        \n",
    "    if distance > minimum_length and distance < maximum_length:\n",
    "        return True\n",
    "    else: \n",
    "        return False\n",
    "\n",
    "def calculate_distance(atom1_coord, atom2_coord): \n",
    "    \"\"\"\n",
    "    \n",
    "    Add help file here: This function takes the coordinates of two atoms(Input) and calculate the distance of these two \n",
    "    atoms: atom1_coord, atom2_coord\n",
    "    return: distance\n",
    "    \n",
    "    \"\"\"\n",
    "    x_distance = atom1_coord[0] - atom2_coord[0] # must use the input\n",
    "    y_distance = atom1_coord[1] - atom2_coord[1]\n",
    "    z_distance = atom1_coord[2] - atom2_coord[2]\n",
    "    distance = numpy.sqrt(x_distance**2 + y_distance**2 + z_distance**2)\n",
    "    return distance # may return sth you calculated \n",
    "\n",
    "if __name__==\"__main__\": # this make a module for python command line to import Geoanalysis5 and you can use all the functions\n",
    "                         # inside this module\n",
    "\n",
    "    #file_location = os.path.join('water.xyz')\n",
    "    if len(sys.argv) < 2:\n",
    "        raise NameError(\"Incorrect Input, please specify a xyz file to be analysis!\") #raise is going to break the whole code\n",
    "\n",
    "    print(F'Running {sys.argv[0]}.')\n",
    "    file_location = sys.argv[1] # python name.py file.xyz: name.py=sys.argv[0], file.xyz=sys.argv[1]\n",
    "\n",
    "    symbols, coord = open_xyz(file_location)\n",
    "    num_atoms = len(symbols)\n",
    "    num_bonds = 0\n",
    "\n",
    "    for num1 in range(0, num_atoms): # range(start, end) ___ not include end\n",
    "        for num2 in range(0, num_atoms):\n",
    "            if num1<num2:\n",
    "                bond_length_12 = calculate_distance(coord[num1], coord[num2])\n",
    "                if bond_check(bond_length_12) is True: # exclude the atom to the same atom by >0\n",
    "                    print(F'{symbols[num1]} to {symbols[num2]} : {bond_length_12:.3f}')\n",
    "                    num_bonds = num_bonds + 1\n",
    "                    \n",
    "    print(F'The total bonds in {sys.argv[1]} is {num_bonds}')"
   ]
  },
  {
   "cell_type": "code",
   "execution_count": null,
   "metadata": {},
   "outputs": [],
   "source": []
  }
 ],
 "metadata": {
  "kernelspec": {
   "display_name": "Python 3",
   "language": "python",
   "name": "python3"
  },
  "language_info": {
   "codemirror_mode": {
    "name": "ipython",
    "version": 3
   },
   "file_extension": ".py",
   "mimetype": "text/x-python",
   "name": "python",
   "nbconvert_exporter": "python",
   "pygments_lexer": "ipython3",
   "version": "3.7.3"
  }
 },
 "nbformat": 4,
 "nbformat_minor": 2
}
