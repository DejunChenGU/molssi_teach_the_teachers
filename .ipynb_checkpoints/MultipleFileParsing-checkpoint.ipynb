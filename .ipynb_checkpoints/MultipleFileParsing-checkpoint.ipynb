{
 "cells": [
  {
   "cell_type": "markdown",
   "metadata": {},
   "source": [
    "# import library_name\n",
    "# output = library_name.function(input)"
   ]
  },
  {
   "cell_type": "code",
   "execution_count": 1,
   "metadata": {},
   "outputs": [
    {
     "name": "stdout",
     "output_type": "stream",
     "text": [
      " Volume in drive C is OS\n",
      " Volume Serial Number is C855-57FA\n",
      "\n",
      " Directory of C:\\Users\\DejunChen\\Desktop\\cms-workshop\\data\n",
      "\n",
      "08/08/2019  02:18 PM    <DIR>          .\n",
      "08/08/2019  02:18 PM    <DIR>          ..\n",
      "08/08/2019  02:12 PM    <DIR>          .ipynb_checkpoints\n",
      "05/08/2019  12:20 PM               619 benzene.xyz\n",
      "05/08/2019  12:18 PM             2,471 buckminsterfullerene.xyz\n",
      "02/19/2019  10:37 AM           355,359 distance_data_headers.csv\n",
      "08/08/2019  02:12 PM           145,624 FileParsing.ipynb\n",
      "08/08/2019  11:19 AM            11,863 MolSSI workshop.ipynb\n",
      "08/08/2019  02:18 PM               631 MultipleFileParsing.ipynb\n",
      "05/08/2019  12:14 PM    <DIR>          outfiles\n",
      "02/19/2019  10:29 AM            61,568 sapt.out\n",
      "01/29/2019  04:02 PM               155 water.xyz\n",
      "               8 File(s)        578,290 bytes\n",
      "               4 Dir(s)  173,940,248,576 bytes free\n"
     ]
    }
   ],
   "source": [
    "ls"
   ]
  },
  {
   "cell_type": "code",
   "execution_count": 2,
   "metadata": {},
   "outputs": [
    {
     "name": "stdout",
     "output_type": "stream",
     "text": [
      " Volume in drive C is OS\n",
      " Volume Serial Number is C855-57FA\n",
      "\n",
      " Directory of C:\\Users\\DejunChen\\Desktop\\cms-workshop\\data\\outfiles\n",
      "\n",
      "05/08/2019  12:14 PM    <DIR>          .\n",
      "05/08/2019  12:14 PM    <DIR>          ..\n",
      "01/18/2019  03:11 PM            12,750 butanol.out\n",
      "01/18/2019  03:11 PM            18,728 decanol.out\n",
      "01/18/2019  03:11 PM            10,639 ethanol.out\n",
      "01/18/2019  03:11 PM            15,770 heptanol.out\n",
      "01/18/2019  03:11 PM            14,767 hexanol.out\n",
      "01/18/2019  03:11 PM             9,719 methanol.out\n",
      "01/18/2019  03:11 PM            17,727 nonanol.out\n",
      "01/18/2019  03:11 PM            16,788 octanol.out\n",
      "01/18/2019  03:11 PM            13,762 pentanol.out\n",
      "01/18/2019  03:11 PM            11,710 propanol.out\n",
      "              10 File(s)        142,360 bytes\n",
      "               2 Dir(s)  173,940,248,576 bytes free\n"
     ]
    }
   ],
   "source": [
    "ls outfiles"
   ]
  },
  {
   "cell_type": "code",
   "execution_count": 3,
   "metadata": {},
   "outputs": [],
   "source": [
    "import os\n",
    "\n",
    "outfile_directory = os.path.join('outfiles', '*.out') # learning: os.path.join"
   ]
  },
  {
   "cell_type": "code",
   "execution_count": 4,
   "metadata": {},
   "outputs": [
    {
     "name": "stdout",
     "output_type": "stream",
     "text": [
      "outfiles\\*.out\n"
     ]
    }
   ],
   "source": [
    "print(outfile_directory)"
   ]
  },
  {
   "cell_type": "code",
   "execution_count": 5,
   "metadata": {},
   "outputs": [
    {
     "ename": "TypeError",
     "evalue": "'module' object is not callable",
     "output_type": "error",
     "traceback": [
      "\u001b[1;31m---------------------------------------------------------------------------\u001b[0m",
      "\u001b[1;31mTypeError\u001b[0m                                 Traceback (most recent call last)",
      "\u001b[1;32m<ipython-input-5-9eb8496c9ed6>\u001b[0m in \u001b[0;36m<module>\u001b[1;34m\u001b[0m\n\u001b[0;32m      1\u001b[0m \u001b[1;32mimport\u001b[0m \u001b[0mglob\u001b[0m\u001b[1;33m\u001b[0m\u001b[1;33m\u001b[0m\u001b[0m\n\u001b[0;32m      2\u001b[0m \u001b[1;33m\u001b[0m\u001b[0m\n\u001b[1;32m----> 3\u001b[1;33m \u001b[0mfile_names\u001b[0m \u001b[1;33m=\u001b[0m \u001b[0mglob\u001b[0m\u001b[1;33m(\u001b[0m\u001b[0moutfile_directory\u001b[0m\u001b[1;33m)\u001b[0m\u001b[1;33m\u001b[0m\u001b[1;33m\u001b[0m\u001b[0m\n\u001b[0m\u001b[0;32m      4\u001b[0m \u001b[0mprint\u001b[0m\u001b[1;33m(\u001b[0m\u001b[0mfile_names\u001b[0m\u001b[1;33m)\u001b[0m\u001b[1;33m\u001b[0m\u001b[1;33m\u001b[0m\u001b[0m\n",
      "\u001b[1;31mTypeError\u001b[0m: 'module' object is not callable"
     ]
    }
   ],
   "source": [
    "import glob\n",
    "\n",
    "file_names = glob(outfile_directory)\n",
    "print(file_names)"
   ]
  },
  {
   "cell_type": "code",
   "execution_count": 6,
   "metadata": {},
   "outputs": [
    {
     "name": "stdout",
     "output_type": "stream",
     "text": [
      "['outfiles\\\\butanol.out', 'outfiles\\\\decanol.out', 'outfiles\\\\ethanol.out', 'outfiles\\\\heptanol.out', 'outfiles\\\\hexanol.out', 'outfiles\\\\methanol.out', 'outfiles\\\\nonanol.out', 'outfiles\\\\octanol.out', 'outfiles\\\\pentanol.out', 'outfiles\\\\propanol.out']\n"
     ]
    }
   ],
   "source": [
    "import glob\n",
    "\n",
    "file_names = glob.glob(outfile_directory)  # library.function(input), output of glob.glob is a list\n",
    "print(file_names)"
   ]
  },
  {
   "cell_type": "code",
   "execution_count": 7,
   "metadata": {},
   "outputs": [
    {
     "data": {
      "text/plain": [
       "list"
      ]
     },
     "execution_count": 7,
     "metadata": {},
     "output_type": "execute_result"
    }
   ],
   "source": [
    "type(file_names)"
   ]
  },
  {
   "cell_type": "code",
   "execution_count": 8,
   "metadata": {},
   "outputs": [
    {
     "name": "stdout",
     "output_type": "stream",
     "text": [
      "-232.1655798347283\n",
      "<class 'float'>\n",
      "-466.3836241400086\n",
      "<class 'float'>\n",
      "-154.09130176573018\n",
      "<class 'float'>\n",
      "-349.27397687072676\n",
      "<class 'float'>\n",
      "-310.2385332251633\n",
      "<class 'float'>\n",
      "-115.04800861868374\n",
      "<class 'float'>\n",
      "-427.3465180082815\n",
      "<class 'float'>\n",
      "-388.3110864554743\n",
      "<class 'float'>\n",
      "-271.20138119895074\n",
      "<class 'float'>\n",
      "-193.12836249728798\n",
      "<class 'float'>\n"
     ]
    }
   ],
   "source": [
    "for f in file_names:\n",
    "    outfile = open(f, 'r')\n",
    "    data = outfile.readlines()\n",
    "    outfile.close()\n",
    "    for line in data:\n",
    "        if 'Final Energy' in line:\n",
    "            energy_line = line\n",
    "            words = energy_line.split()\n",
    "            energy = float(words[3])\n",
    "            print(energy)\n",
    "            print(type(energy))"
   ]
  },
  {
   "cell_type": "code",
   "execution_count": 9,
   "metadata": {},
   "outputs": [
    {
     "name": "stdout",
     "output_type": "stream",
     "text": [
      "butanol.out\n",
      "-232.1655798347283\n",
      "decanol.out\n",
      "-466.3836241400086\n",
      "ethanol.out\n",
      "-154.09130176573018\n",
      "heptanol.out\n",
      "-349.27397687072676\n",
      "hexanol.out\n",
      "-310.2385332251633\n",
      "methanol.out\n",
      "-115.04800861868374\n",
      "nonanol.out\n",
      "-427.3465180082815\n",
      "octanol.out\n",
      "-388.3110864554743\n",
      "pentanol.out\n",
      "-271.20138119895074\n",
      "propanol.out\n",
      "-193.12836249728798\n"
     ]
    }
   ],
   "source": [
    "for f in file_names:\n",
    "    file_name = os.path.basename(f) # learning: .basename\n",
    "    print(file_name)\n",
    "    \n",
    "    outfile = open(f, 'r')\n",
    "    data = outfile.readlines()\n",
    "    outfile.close()\n",
    "    for line in data:\n",
    "        if 'Final Energy' in line:\n",
    "            energy_line = line\n",
    "            words = energy_line.split()\n",
    "            energy = float(words[3])\n",
    "            print(energy)"
   ]
  },
  {
   "cell_type": "code",
   "execution_count": 10,
   "metadata": {},
   "outputs": [
    {
     "name": "stdout",
     "output_type": "stream",
     "text": [
      "propanol.out\n"
     ]
    }
   ],
   "source": [
    "print(file_name)"
   ]
  },
  {
   "cell_type": "code",
   "execution_count": 11,
   "metadata": {},
   "outputs": [
    {
     "ename": "NameError",
     "evalue": "name 'filenames' is not defined",
     "output_type": "error",
     "traceback": [
      "\u001b[1;31m---------------------------------------------------------------------------\u001b[0m",
      "\u001b[1;31mNameError\u001b[0m                                 Traceback (most recent call last)",
      "\u001b[1;32m<ipython-input-11-6e443cf157de>\u001b[0m in \u001b[0;36m<module>\u001b[1;34m\u001b[0m\n\u001b[1;32m----> 1\u001b[1;33m \u001b[0mfile_name\u001b[0m \u001b[1;33m=\u001b[0m \u001b[0mfilenames\u001b[0m\u001b[1;33m[\u001b[0m\u001b[1;36m0\u001b[0m\u001b[1;33m]\u001b[0m\u001b[1;33m\u001b[0m\u001b[1;33m\u001b[0m\u001b[0m\n\u001b[0m\u001b[0;32m      2\u001b[0m \u001b[0mprint\u001b[0m\u001b[1;33m(\u001b[0m\u001b[0mfile_name\u001b[0m\u001b[1;33m)\u001b[0m\u001b[1;33m\u001b[0m\u001b[1;33m\u001b[0m\u001b[0m\n",
      "\u001b[1;31mNameError\u001b[0m: name 'filenames' is not defined"
     ]
    }
   ],
   "source": [
    "file_name = filenames[0]\n",
    "print(file_name)"
   ]
  },
  {
   "cell_type": "code",
   "execution_count": 12,
   "metadata": {},
   "outputs": [
    {
     "name": "stdout",
     "output_type": "stream",
     "text": [
      "outfiles\\butanol.out\n"
     ]
    }
   ],
   "source": [
    "file_name = file_names[0]\n",
    "print(file_name)"
   ]
  },
  {
   "cell_type": "code",
   "execution_count": 13,
   "metadata": {},
   "outputs": [
    {
     "name": "stdout",
     "output_type": "stream",
     "text": [
      "outfiles\\butanol.out\n",
      "outfiles\\decanol.out\n",
      "outfiles\\ethanol.out\n",
      "outfiles\\heptanol.out\n",
      "outfiles\\hexanol.out\n",
      "outfiles\\methanol.out\n",
      "outfiles\\nonanol.out\n",
      "outfiles\\octanol.out\n",
      "outfiles\\pentanol.out\n",
      "outfiles\\propanol.out\n"
     ]
    }
   ],
   "source": [
    "for f in file_names:\n",
    "    print(f)"
   ]
  },
  {
   "cell_type": "code",
   "execution_count": 14,
   "metadata": {},
   "outputs": [
    {
     "name": "stdout",
     "output_type": "stream",
     "text": [
      "butanol.out\n"
     ]
    }
   ],
   "source": [
    "mol_name = os.path.basename(file_name)\n",
    "print(mol_name)"
   ]
  },
  {
   "cell_type": "code",
   "execution_count": 15,
   "metadata": {},
   "outputs": [
    {
     "name": "stdout",
     "output_type": "stream",
     "text": [
      "butanol\n"
     ]
    }
   ],
   "source": [
    "molecule = mol_name.split('.')\n",
    "molecule_name = molecule[0]\n",
    "print(molecule_name)"
   ]
  },
  {
   "cell_type": "code",
   "execution_count": 16,
   "metadata": {},
   "outputs": [
    {
     "name": "stdout",
     "output_type": "stream",
     "text": [
      "butanol -232.1655798347283\n",
      "decanol -466.3836241400086\n",
      "ethanol -154.09130176573018\n",
      "heptanol -349.27397687072676\n",
      "hexanol -310.2385332251633\n",
      "methanol -115.04800861868374\n",
      "nonanol -427.3465180082815\n",
      "octanol -388.3110864554743\n",
      "pentanol -271.20138119895074\n",
      "propanol -193.12836249728798\n"
     ]
    }
   ],
   "source": [
    "for f in file_names:\n",
    "    file_name = os.path.basename(f) # learning: .basename\n",
    "    #print(file_name)\n",
    "    split_file_name = file_name.split('.')\n",
    "    molecule_name = split_file_name[0]\n",
    "    \n",
    "    outfile = open(f, 'r')\n",
    "    data = outfile.readlines()\n",
    "    outfile.close()\n",
    "    for line in data:\n",
    "        if 'Final Energy' in line:\n",
    "            energy_line = line\n",
    "            words = energy_line.split()\n",
    "            energy = float(words[3])\n",
    "            print(molecule_name, energy)"
   ]
  },
  {
   "cell_type": "code",
   "execution_count": 20,
   "metadata": {},
   "outputs": [
    {
     "name": "stdout",
     "output_type": "stream",
     "text": [
      "butanol energy \t -232.1655798347283 \t kcal/mol \n",
      "\n",
      "decanol energy \t -466.3836241400086 \t kcal/mol \n",
      "\n",
      "ethanol energy \t -154.09130176573018 \t kcal/mol \n",
      "\n",
      "heptanol energy \t -349.27397687072676 \t kcal/mol \n",
      "\n",
      "hexanol energy \t -310.2385332251633 \t kcal/mol \n",
      "\n",
      "methanol energy \t -115.04800861868374 \t kcal/mol \n",
      "\n",
      "nonanol energy \t -427.3465180082815 \t kcal/mol \n",
      "\n",
      "octanol energy \t -388.3110864554743 \t kcal/mol \n",
      "\n",
      "pentanol energy \t -271.20138119895074 \t kcal/mol \n",
      "\n",
      "propanol energy \t -193.12836249728798 \t kcal/mol \n",
      "\n"
     ]
    }
   ],
   "source": [
    "datafile = open('energies.txt', 'a+') # learning: w+ a+ and open/creat file for writing\n",
    "\n",
    "for f in file_names:\n",
    "    file_name = os.path.basename(f) # learning: .basename\n",
    "    #print(file_name)\n",
    "    split_file_name = file_name.split('.')\n",
    "    molecule_name = split_file_name[0]\n",
    "    \n",
    "    outfile = open(f, 'r')\n",
    "    data = outfile.readlines()\n",
    "    outfile.close()\n",
    "    for line in data:\n",
    "        if 'Final Energy' in line:\n",
    "            energy_line = line\n",
    "            words = energy_line.split()\n",
    "            energy = float(words[3])\n",
    "            print(F'{molecule_name} energy \\t {energy} \\t kcal/mol \\n')\n",
    "            datafile.write(F'{molecule_name} energy \\t {energy} \\t kcal/mol \\n')\n",
    "            \n",
    "datafile.close()"
   ]
  },
  {
   "cell_type": "code",
   "execution_count": 21,
   "metadata": {},
   "outputs": [
    {
     "name": "stdout",
     "output_type": "stream",
     "text": [
      "butanol energy: -232.165580 kcal/mol \n",
      "\n",
      "decanol energy: -466.383624 kcal/mol \n",
      "\n",
      "ethanol energy: -154.091302 kcal/mol \n",
      "\n",
      "heptanol energy: -349.273977 kcal/mol \n",
      "\n",
      "hexanol energy: -310.238533 kcal/mol \n",
      "\n",
      "methanol energy: -115.048009 kcal/mol \n",
      "\n",
      "nonanol energy: -427.346518 kcal/mol \n",
      "\n",
      "octanol energy: -388.311086 kcal/mol \n",
      "\n",
      "pentanol energy: -271.201381 kcal/mol \n",
      "\n",
      "propanol energy: -193.128362 kcal/mol \n",
      "\n"
     ]
    }
   ],
   "source": [
    "datafile = open('energies.txt', 'w+') # learning: w+ a+ and open/creat file for writing\n",
    "\n",
    "for f in file_names:\n",
    "    file_name = os.path.basename(f) # learning: .basename\n",
    "    #print(file_name)\n",
    "    split_file_name = file_name.split('.')\n",
    "    molecule_name = split_file_name[0]\n",
    "    \n",
    "    outfile = open(f, 'r')\n",
    "    data = outfile.readlines()\n",
    "    outfile.close()\n",
    "    for line in data:\n",
    "        if 'Final Energy' in line:\n",
    "            energy_line = line\n",
    "            words = energy_line.split()\n",
    "            energy = float(words[3])\n",
    "            print(F'{molecule_name} energy: {energy: .6f} kcal/mol \\n')\n",
    "            datafile.write(F'{molecule_name} energy: {energy: .6f} kcal/mol \\n') # .6f: 6 digitals after .\n",
    "            \n",
    "datafile.close()"
   ]
  },
  {
   "cell_type": "code",
   "execution_count": null,
   "metadata": {},
   "outputs": [],
   "source": []
  }
 ],
 "metadata": {
  "kernelspec": {
   "display_name": "Python 3",
   "language": "python",
   "name": "python3"
  },
  "language_info": {
   "codemirror_mode": {
    "name": "ipython",
    "version": 3
   },
   "file_extension": ".py",
   "mimetype": "text/x-python",
   "name": "python",
   "nbconvert_exporter": "python",
   "pygments_lexer": "ipython3",
   "version": "3.7.3"
  }
 },
 "nbformat": 4,
 "nbformat_minor": 2
}
